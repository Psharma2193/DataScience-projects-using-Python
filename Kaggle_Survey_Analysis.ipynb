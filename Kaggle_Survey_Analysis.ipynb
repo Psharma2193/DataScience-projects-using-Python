{
 "cells": [
  {
   "cell_type": "markdown",
   "metadata": {
    "_cell_guid": "d3799081-8a58-4152-9c93-b791fb09980d",
    "_uuid": "a7c401914f216acb24b8164fedeb70347c07f2c0"
   },
   "source": [
    "# **Data Science Project - Group 4 **\n",
    "# **Kaggle Survey Data Analysis **\n",
    "**Submission by - Prachi Sharma | Vikita Nayak**"
   ]
  },
  {
   "cell_type": "markdown",
   "metadata": {
    "_cell_guid": "078b6703-506e-451a-92bb-9fc5d3ecc3bc",
    "_uuid": "8705e374e2cc3cf395d5edcf4a489cc66239977b"
   },
   "source": [
    "# 1. Dataset Description\n",
    "There were 16,716 Kaggle respondents to this survey. The questions covered a broad spectrum, starting with general demographic questions before moving on to specific DS/ML questions for both the working community and the learning one.\n",
    "\n",
    "-**multipleChoiceResponses.csv ** : Participants' answers to multiple choice questions. Each column contains the answers of one respondent to a specific question.         \n",
    "-**freeformResponses.csv** : Each time a respondent selected 'Other' and filled the 'Please specify' part, his answer was added in the freeform.            \n",
    "-**schema.csv** : This file includes all the questions that have been asked, explains each one of them and precise to whom they've been asked (learners, coders...).             \n",
    "-**RespondentTypeREADME.txt ** : This is to understand how instances are being defined by Kaggle : who are the learners, who are the workers, who are the the coding workers.                   \n",
    "-**conversionRates.csv** : Currency conversion rates to USD. "
   ]
  },
  {
   "cell_type": "markdown",
   "metadata": {},
   "source": [
    "<p>This dataset contains the following data:\n",
    "<ul>\n",
    "<li><b>Age</b>\n",
    "<li><b>EmploymentStatus</b>\n",
    "<li><b>StudentStatus</b>\n",
    "<li><b>LearningDataScience</b>\n",
    "<li><b>CodeWriter</b>\n",
    "<li><b>CareerSwitcher</b>\n",
    "<li><b>CurrentJobTitleSelect</b>\n",
    "<li><b>TitleFit</b>\n",
    "<li><b>CurrentEmployerType</b>\n",
    "<li><b>MLToolNextYearSelect</b>\n",
    "<li><b>MLMethodNextYearSelect</b>\n",
    "<li><b>LanguageRecommendationSelect</b>\n",
    "<li><b>PublicDatasetsSelect</b>\n",
    "<li><b>LearningPlatformSelect</b>\n",
    "<li><b>LearningDataScienceTime</b>\n",
    "<li><b>JobSkillImportanceBigData</b>\n",
    "<li><b>CoursePlatformSelect</b>\n",
    "<li><b>HardwarePersonalProjectsSelect</b>\n",
    "<li><b>TimeSpentStudying</b>\n",
    "<li><b>ProveKnowledgeSelect</b>\n",
    "<li><b>DataScienceIdentitySelect</b>\n",
    "<li><b>FormalEducation</b>\n",
    "<li><b>MajorSelect</b>\n",
    "<li><b>Tenure</b>\n",
    "<li><b>PastJobTitlesSelect</b>\n",
    "<li><b>FirstTrainingSelect</b>\n",
    "<li><b>LearningCategorySelftTaught</b>\n",
    "\n",
    "<li><b>MLSkillsSelect</b>\n",
    "<li><b>MLTechniquesSelect</b>\n",
    "<li><b>ParentsEducation</b>\n",
    "<li><b>EmployerIndustry</b>\n",
    "<li><b>EmployerSize</b>\n",
    "<li><b>EmployerSizeChange</b>\n",
    "<li><b>EmployerMLTime</b>\n",
    "<li><b>EmployerSearchMethod</b>\n",
    "<li><b>UniversityImportance</b>\n",
    "<li><b>JobFunctionSelect</b>\n",
    "<li><b>WorkDataTypeSelect</b>\n",
    "<li><b>WorkAlgorithmsSelect</b>\n",
    "<li><b>WorkToolsSelect</b>\n",
    "<li><b>WorkFrequencySelect</b>\n",
    "<li><b>WorkMethodsSelect</b>\n",
    "<li><b>WorkChallengesSelect</b>\n",
    "<li><b>CompensationAmount</b>\n",
    "<li><b>CompensationCurrency</b>\n",
    "<li><b>originCountry</b>\n",
    "<li><b>exchangeRate</b>\n",
    "</ul></p>\n",
    "<p>That is all we need to know about the columns' meaning.</p>"
   ]
  },
  {
   "cell_type": "markdown",
   "metadata": {},
   "source": [
    "#  Importing all the required packages"
   ]
  },
  {
   "cell_type": "code",
   "execution_count": 1,
   "metadata": {
    "_cell_guid": "bf6d21b3-22d5-48e4-8a62-a50ef36bae42",
    "_kg_hide-input": true,
    "_kg_hide-output": false,
    "_uuid": "76567470049e7d7e878b76d72e81858f56bdbd2a"
   },
   "outputs": [
    {
     "data": {
      "text/html": [
       "<script>requirejs.config({paths: { 'plotly': ['https://cdn.plot.ly/plotly-latest.min']},});if(!window.Plotly) {{require(['plotly'],function(plotly) {window.Plotly=plotly;});}}</script>"
      ],
      "text/vnd.plotly.v1+html": [
       "<script>requirejs.config({paths: { 'plotly': ['https://cdn.plot.ly/plotly-latest.min']},});if(!window.Plotly) {{require(['plotly'],function(plotly) {window.Plotly=plotly;});}}</script>"
      ]
     },
     "metadata": {},
     "output_type": "display_data"
    }
   ],
   "source": [
    "import numpy as np\n",
    "import pandas as pd\n",
    "import matplotlib.pyplot as plt\n",
    "import seaborn as sns\n",
    "sns.set(color_codes=True)\n",
    "import warnings\n",
    "warnings.filterwarnings('ignore')\n",
    "from sklearn.ensemble import RandomForestClassifier\n",
    "from sklearn.model_selection import train_test_split\n",
    "import plotly.offline as py\n",
    "py.init_notebook_mode(connected=True)\n",
    "import plotly.graph_objs as go\n",
    "import plotly.tools as tls\n",
    "\n",
    "# print all the outputs in a cell\n",
    "from IPython.core.interactiveshell import InteractiveShell\n",
    "InteractiveShell.ast_node_interactivity = \"all\""
   ]
  },
  {
   "cell_type": "markdown",
   "metadata": {},
   "source": [
    "# 2. Reading the dataset "
   ]
  },
  {
   "cell_type": "code",
   "execution_count": 2,
   "metadata": {
    "_cell_guid": "20b8d526-f6ea-4a89-ba61-501bca0fa59c",
    "_kg_hide-input": false,
    "_kg_hide-output": true,
    "_uuid": "cdc98b9ad08c354a6d89b2a135fa835b1c445774"
   },
   "outputs": [],
   "source": [
    "cvRates = pd.read_csv('conversionRates.csv', encoding=\"ISO-8859-1\", index_col=0)\n",
    "data = pd.read_csv('multipleChoiceResponses.csv', encoding=\"ISO-8859-1\")\n",
    "schema = pd.read_csv('schema.csv', encoding =\"ISO-8859-1\")"
   ]
  },
  {
   "cell_type": "code",
   "execution_count": 3,
   "metadata": {},
   "outputs": [
    {
     "data": {
      "text/plain": [
       "(16716, 228)"
      ]
     },
     "execution_count": 3,
     "metadata": {},
     "output_type": "execute_result"
    },
    {
     "data": {
      "text/html": [
       "<div>\n",
       "<style scoped>\n",
       "    .dataframe tbody tr th:only-of-type {\n",
       "        vertical-align: middle;\n",
       "    }\n",
       "\n",
       "    .dataframe tbody tr th {\n",
       "        vertical-align: top;\n",
       "    }\n",
       "\n",
       "    .dataframe thead th {\n",
       "        text-align: right;\n",
       "    }\n",
       "</style>\n",
       "<table border=\"1\" class=\"dataframe\">\n",
       "  <thead>\n",
       "    <tr style=\"text-align: right;\">\n",
       "      <th></th>\n",
       "      <th>GenderSelect</th>\n",
       "      <th>Country</th>\n",
       "      <th>Age</th>\n",
       "      <th>EmploymentStatus</th>\n",
       "      <th>StudentStatus</th>\n",
       "      <th>LearningDataScience</th>\n",
       "      <th>CodeWriter</th>\n",
       "      <th>CareerSwitcher</th>\n",
       "      <th>CurrentJobTitleSelect</th>\n",
       "      <th>TitleFit</th>\n",
       "      <th>...</th>\n",
       "      <th>JobFactorExperienceLevel</th>\n",
       "      <th>JobFactorDepartment</th>\n",
       "      <th>JobFactorTitle</th>\n",
       "      <th>JobFactorCompanyFunding</th>\n",
       "      <th>JobFactorImpact</th>\n",
       "      <th>JobFactorRemote</th>\n",
       "      <th>JobFactorIndustry</th>\n",
       "      <th>JobFactorLeaderReputation</th>\n",
       "      <th>JobFactorDiversity</th>\n",
       "      <th>JobFactorPublishingOpportunity</th>\n",
       "    </tr>\n",
       "  </thead>\n",
       "  <tbody>\n",
       "    <tr>\n",
       "      <th>0</th>\n",
       "      <td>Non-binary, genderqueer, or gender non-conforming</td>\n",
       "      <td>NaN</td>\n",
       "      <td>NaN</td>\n",
       "      <td>Employed full-time</td>\n",
       "      <td>NaN</td>\n",
       "      <td>NaN</td>\n",
       "      <td>Yes</td>\n",
       "      <td>NaN</td>\n",
       "      <td>DBA/Database Engineer</td>\n",
       "      <td>Fine</td>\n",
       "      <td>...</td>\n",
       "      <td>NaN</td>\n",
       "      <td>NaN</td>\n",
       "      <td>NaN</td>\n",
       "      <td>NaN</td>\n",
       "      <td>NaN</td>\n",
       "      <td>NaN</td>\n",
       "      <td>NaN</td>\n",
       "      <td>NaN</td>\n",
       "      <td>NaN</td>\n",
       "      <td>NaN</td>\n",
       "    </tr>\n",
       "    <tr>\n",
       "      <th>1</th>\n",
       "      <td>Female</td>\n",
       "      <td>United States</td>\n",
       "      <td>30.0</td>\n",
       "      <td>Not employed, but looking for work</td>\n",
       "      <td>NaN</td>\n",
       "      <td>NaN</td>\n",
       "      <td>NaN</td>\n",
       "      <td>NaN</td>\n",
       "      <td>NaN</td>\n",
       "      <td>NaN</td>\n",
       "      <td>...</td>\n",
       "      <td>NaN</td>\n",
       "      <td>NaN</td>\n",
       "      <td>NaN</td>\n",
       "      <td>NaN</td>\n",
       "      <td>NaN</td>\n",
       "      <td>NaN</td>\n",
       "      <td>NaN</td>\n",
       "      <td>Somewhat important</td>\n",
       "      <td>NaN</td>\n",
       "      <td>NaN</td>\n",
       "    </tr>\n",
       "  </tbody>\n",
       "</table>\n",
       "<p>2 rows × 228 columns</p>\n",
       "</div>"
      ],
      "text/plain": [
       "                                        GenderSelect        Country   Age  \\\n",
       "0  Non-binary, genderqueer, or gender non-conforming            NaN   NaN   \n",
       "1                                             Female  United States  30.0   \n",
       "\n",
       "                     EmploymentStatus StudentStatus LearningDataScience  \\\n",
       "0                  Employed full-time           NaN                 NaN   \n",
       "1  Not employed, but looking for work           NaN                 NaN   \n",
       "\n",
       "  CodeWriter CareerSwitcher  CurrentJobTitleSelect TitleFit  \\\n",
       "0        Yes            NaN  DBA/Database Engineer     Fine   \n",
       "1        NaN            NaN                    NaN      NaN   \n",
       "\n",
       "               ...               JobFactorExperienceLevel JobFactorDepartment  \\\n",
       "0              ...                                    NaN                 NaN   \n",
       "1              ...                                    NaN                 NaN   \n",
       "\n",
       "  JobFactorTitle JobFactorCompanyFunding JobFactorImpact JobFactorRemote  \\\n",
       "0            NaN                     NaN             NaN             NaN   \n",
       "1            NaN                     NaN             NaN             NaN   \n",
       "\n",
       "  JobFactorIndustry JobFactorLeaderReputation JobFactorDiversity  \\\n",
       "0               NaN                       NaN                NaN   \n",
       "1               NaN        Somewhat important                NaN   \n",
       "\n",
       "  JobFactorPublishingOpportunity  \n",
       "0                            NaN  \n",
       "1                            NaN  \n",
       "\n",
       "[2 rows x 228 columns]"
      ]
     },
     "execution_count": 3,
     "metadata": {},
     "output_type": "execute_result"
    }
   ],
   "source": [
    "data.shape\n",
    "data.head(2)"
   ]
  },
  {
   "cell_type": "code",
   "execution_count": 4,
   "metadata": {},
   "outputs": [
    {
     "data": {
      "text/plain": [
       "(86, 2)"
      ]
     },
     "execution_count": 4,
     "metadata": {},
     "output_type": "execute_result"
    },
    {
     "data": {
      "text/html": [
       "<div>\n",
       "<style scoped>\n",
       "    .dataframe tbody tr th:only-of-type {\n",
       "        vertical-align: middle;\n",
       "    }\n",
       "\n",
       "    .dataframe tbody tr th {\n",
       "        vertical-align: top;\n",
       "    }\n",
       "\n",
       "    .dataframe thead th {\n",
       "        text-align: right;\n",
       "    }\n",
       "</style>\n",
       "<table border=\"1\" class=\"dataframe\">\n",
       "  <thead>\n",
       "    <tr style=\"text-align: right;\">\n",
       "      <th></th>\n",
       "      <th>originCountry</th>\n",
       "      <th>exchangeRate</th>\n",
       "    </tr>\n",
       "  </thead>\n",
       "  <tbody>\n",
       "    <tr>\n",
       "      <th>1</th>\n",
       "      <td>USD</td>\n",
       "      <td>1.000000</td>\n",
       "    </tr>\n",
       "    <tr>\n",
       "      <th>2</th>\n",
       "      <td>EUR</td>\n",
       "      <td>1.195826</td>\n",
       "    </tr>\n",
       "  </tbody>\n",
       "</table>\n",
       "</div>"
      ],
      "text/plain": [
       "  originCountry  exchangeRate\n",
       "1           USD      1.000000\n",
       "2           EUR      1.195826"
      ]
     },
     "execution_count": 4,
     "metadata": {},
     "output_type": "execute_result"
    }
   ],
   "source": [
    "cvRates.shape\n",
    "cvRates.head(2)"
   ]
  },
  {
   "cell_type": "markdown",
   "metadata": {},
   "source": [
    "# 3. Data Preparation"
   ]
  },
  {
   "cell_type": "markdown",
   "metadata": {},
   "source": [
    "### 3.1 Filling null values of two columns with 0 and  Enumerating them"
   ]
  },
  {
   "cell_type": "code",
   "execution_count": 5,
   "metadata": {},
   "outputs": [],
   "source": [
    "data_PVR=data[[\"WorkToolsFrequencyPython\",\"WorkToolsFrequencyR\"]].fillna(0)\n",
    "data_PVR.replace(to_replace=['Rarely','Sometimes','Often','Most of the time'], value=[1,2,3,4], inplace=True)"
   ]
  },
  {
   "cell_type": "markdown",
   "metadata": {},
   "source": [
    "### 3.2 Creating new column called PythonVsR which have three typesof values: Python, R and Both"
   ]
  },
  {
   "cell_type": "code",
   "execution_count": 6,
   "metadata": {},
   "outputs": [],
   "source": [
    "data_PVR['PythonVsR'] = ['R' if (f1 >2 and f1 > f2) else\n",
    "                        'Python' if (f1<f2 and f2>2) else\n",
    "                        'Both' if (f1==f2 and f1 >2) else\n",
    "                        'None' for (f1,f2) in zip(data_PVR[\"WorkToolsFrequencyR\"],data_PVR[\"WorkToolsFrequencyPython\"])]\n",
    "data['PythonVsR']=data_PVR['PythonVsR']\n",
    "#Eliminate the Null values\n",
    "df_PVR = data[data['PythonVsR']!='None']"
   ]
  },
  {
   "cell_type": "code",
   "execution_count": 7,
   "metadata": {},
   "outputs": [],
   "source": [
    "df_PVR['LanguageRecommendationSelect'].fillna('Other',inplace=True)"
   ]
  },
  {
   "cell_type": "markdown",
   "metadata": {},
   "source": [
    "# 4. Findings"
   ]
  },
  {
   "cell_type": "markdown",
   "metadata": {
    "_cell_guid": "1cab684d-728b-41a7-9d44-8732429e88ea",
    "_uuid": "5bdb92cbb2f68399a1722b2cdfc9fc9c70444333"
   },
   "source": [
    "## 4.1 Analysis 1 - Language Recommendation to Data Scientists beginners?\n"
   ]
  },
  {
   "cell_type": "markdown",
   "metadata": {
    "_cell_guid": "c1149a0f-200b-4f53-bc58-9113443ff7b8",
    "_uuid": "720a61d38c3069e1883c9327c61555c2202aa2b0"
   },
   "source": [
    "*'What do you use for data science stuff, R or Python ?'* \n",
    "In this section of the analysis we try to weigh Python and R to find out which is the ideal language for data science. This analysis will be helpful in recommending aspiring data scientists which language to start with."
   ]
  },
  {
   "cell_type": "markdown",
   "metadata": {
    "_cell_guid": "48ed777d-ff96-43b9-8ecd-eab0ebb25570",
    "_uuid": "177e9a17a7bc26075b8ef33c76213de48474140a"
   },
   "source": [
    "We begin with identifing the participants whose recommendation can be considered viable. For this we believe people who are currently working(not students) can give valuable feedback that is inline with the work of Data Science.\n"
   ]
  },
  {
   "cell_type": "markdown",
   "metadata": {},
   "source": [
    "For classifying Python, R or Both users, we have used a question about frequency use of Python and R by participants-\n",
    "\n",
    "    Python Users - Use Python Most of the time/often & don't use R\n",
    "    R Users - Use R Most of the time/often & don't use Python\n",
    "    Both Users - Use both R and Python equally & at least often"
   ]
  },
  {
   "cell_type": "code",
   "execution_count": 8,
   "metadata": {},
   "outputs": [
    {
     "name": "stdout",
     "output_type": "stream",
     "text": [
      "Participants using Python:  3438\n",
      "Participants using R:  1851\n",
      "Participants using both Python and R:  878\n"
     ]
    }
   ],
   "source": [
    "print(\"Participants using Python: \",len(df_PVR[df_PVR['PythonVsR']=='Python']))\n",
    "print(\"Participants using R: \",len(df_PVR[df_PVR['PythonVsR']=='R']))\n",
    "print(\"Participants using both Python and R: \",len(df_PVR[df_PVR['PythonVsR']=='Both']))"
   ]
  },
  {
   "cell_type": "code",
   "execution_count": 9,
   "metadata": {},
   "outputs": [],
   "source": [
    "Python_users = len(df_PVR[df_PVR['PythonVsR']=='Python'])\n",
    "R_users = len(df_PVR[df_PVR['PythonVsR']=='R'])\n",
    "Both_users = len(df_PVR[df_PVR['PythonVsR']=='Both'])"
   ]
  },
  {
   "cell_type": "code",
   "execution_count": 10,
   "metadata": {},
   "outputs": [],
   "source": [
    "d={'Users':['Python','R','Both'],'Numbers':[Python_users,R_users,Both_users]}\n",
    "users_df = pd.DataFrame(data=d)"
   ]
  },
  {
   "cell_type": "code",
   "execution_count": 11,
   "metadata": {},
   "outputs": [
    {
     "data": {
      "text/plain": [
       "<seaborn.axisgrid.FacetGrid at 0x27a6c72a240>"
      ]
     },
     "execution_count": 11,
     "metadata": {},
     "output_type": "execute_result"
    },
    {
     "data": {
      "image/png": "[encoded data removed]",
      "text/plain": [
       "<Figure size 576x288 with 1 Axes>"
      ]
     },
     "metadata": {},
     "output_type": "display_data"
    }
   ],
   "source": [
    "sns.factorplot(y='Numbers',x= 'Users',data=users_df, kind='bar',aspect=2, legend=True)"
   ]
  },
  {
   "cell_type": "markdown",
   "metadata": {
    "_cell_guid": "5132a859-31c1-4cb2-8dc6-77f952a7dcb1",
    "_uuid": "085dc7ae9e320da453a5711d87d866e87d36d235"
   },
   "source": [
    "***Frequency of Python as a tool is almost twice as compared to R***"
   ]
  },
  {
   "cell_type": "markdown",
   "metadata": {},
   "source": [
    "### ML methods / algorithms and skills for R and Python"
   ]
  },
  {
   "cell_type": "code",
   "execution_count": 12,
   "metadata": {},
   "outputs": [],
   "source": [
    "df_PVR['WorkMethodsSelect']=df_PVR['WorkMethodsSelect'].fillna('None')\n",
    "techniques = ['Bayesian Techniques','Data Visualization', 'Logistic Regression','Natural Language Processing',\n",
    " 'kNN and Other Clustering','Neural Networks','PCA and Dimensionality Reduction',\n",
    " 'Time Series Analysis', 'Text Analytics','Cross-Validation']\n",
    "\n",
    "df_PVR['WorkAlgorithmsSelect']=df_PVR['WorkAlgorithmsSelect'].fillna('None')\n",
    "algorithms = ['Bayesian Techniques','Decision Trees','Random Forests','Regression/Logistic Regression',\n",
    " 'CNNs', 'RNNs', 'Gradient Boosted Machines','SVMs','GANs','Ensemble Methods']\n"
   ]
  },
  {
   "cell_type": "code",
   "execution_count": 13,
   "metadata": {},
   "outputs": [
    {
     "data": {
      "image/png": "[encoded data removed]",
      "text/plain": [
       "<Figure size 1440x720 with 2 Axes>"
      ]
     },
     "metadata": {},
     "output_type": "display_data"
    }
   ],
   "source": [
    "d_t={}\n",
    "for t in techniques :\n",
    "    d_t[t]={'Python':0,'R':0,'Both':0}\n",
    "    for (i,elem) in zip(range(df_PVR.shape[0]),df_PVR['WorkMethodsSelect']):\n",
    "        if t in elem : \n",
    "            d_t[t][df_PVR['PythonVsR'].iloc[i]]+=1\n",
    "    d_t[t]['Python']=100*d_t[t]['Python']/len(df_PVR[df_PVR['PythonVsR']=='Python'])\n",
    "    d_t[t]['R']=100*d_t[t]['R']/len(df_PVR[df_PVR['PythonVsR']=='R'])\n",
    "    d_t[t]['Both']=100*d_t[t]['Both']/len(df_PVR[df_PVR['PythonVsR']=='Both'])\n",
    "    \n",
    "d_a={}\n",
    "for a in algorithms :\n",
    "    d_a[a]={'Python':0,'R':0,'Both':0}\n",
    "    for (i,elem) in zip(range(df_PVR.shape[0]),df_PVR['WorkAlgorithmsSelect']):\n",
    "        if a in elem : \n",
    "            d_a[a][df_PVR['PythonVsR'].iloc[i]]+=1\n",
    "    d_a[a]['Python']=100*d_a[a]['Python']/len(df_PVR[df_PVR['PythonVsR']=='Python'])\n",
    "    d_a[a]['R']=100*d_a[a]['R']/len(df_PVR[df_PVR['PythonVsR']=='R'])\n",
    "    d_a[a]['Both']=100*d_a[a]['Both']/len(df_PVR[df_PVR['PythonVsR']=='Both'])\n",
    "            \n",
    "f,ax=plt.subplots(1,2,figsize=(20,10))\n",
    "\n",
    "(pd.DataFrame(d_t)).transpose().plot(kind='bar',ax=ax[0],color = ['#1D5939','#660000','#BB3242'],alpha = .8)\n",
    "ax[0].set_title(\"Technique usage by R & Python users\")\n",
    "ax[0].set_ylabel('')\n",
    "ax[0].set_xlabel(\"Method\")\n",
    "\n",
    "(pd.DataFrame(d_a)).transpose().plot(kind='bar',ax=ax[1],color = ['#1D5939','#660000','#BB3242'],alpha = .8)\n",
    "ax[1].set_title(\"Algorithm usage by R & Python users\")\n",
    "ax[1].set_ylabel('')\n",
    "ax[1].set_xlabel(\"Algorithm\")\n",
    "\n",
    "plt.tight_layout()\n",
    "plt.show();"
   ]
  },
  {
   "cell_type": "markdown",
   "metadata": {},
   "source": [
    "### Overall Language Recommendation count by Language Users"
   ]
  },
  {
   "cell_type": "code",
   "execution_count": 14,
   "metadata": {},
   "outputs": [
    {
     "data": {
      "image/png": "[encoded data removed]",
      "text/plain": [
       "<Figure size 864x576 with 1 Axes>"
      ]
     },
     "metadata": {},
     "output_type": "display_data"
    }
   ],
   "source": [
    "plt.figure(figsize=(12,8))\n",
    "sns.countplot(y='LanguageRecommendationSelect',hue='PythonVsR',data=df_PVR)\n",
    "plt.ylabel(\"Language Users\", fontsize=13)\n",
    "plt.xlabel(\"Number of recommenders\", fontsize=13)\n",
    "plt.title(\"Recommended language\", fontsize=13)\n",
    "plt.show();\n"
   ]
  },
  {
   "cell_type": "markdown",
   "metadata": {},
   "source": [
    "As shown in the graph above, we noticed that the most recommended languages are Python and R.We will further dive in to find more insights"
   ]
  },
  {
   "cell_type": "markdown",
   "metadata": {},
   "source": [
    "### Language Recommendation % "
   ]
  },
  {
   "cell_type": "code",
   "execution_count": 15,
   "metadata": {},
   "outputs": [
    {
     "name": "stdout",
     "output_type": "stream",
     "text": [
      "Proportion of Python users who recommend R as the first language to learn: 2.68%\n",
      "Proportion of R users who recommend Python as the first language to learn: 23.12%\n"
     ]
    }
   ],
   "source": [
    "mask_R=(df_PVR['LanguageRecommendationSelect'] == 'R')& (df_PVR['PythonVsR']=='Python')\n",
    "print('Proportion of Python users who recommend R as the first language to learn: {:0.2f}%'\\\n",
    "      .format(100*len(df_PVR[mask_R])/len(df_PVR[df_PVR['PythonVsR']=='Python'])))\n",
    "m_R= 100*len(df_PVR[mask_R])/len(df_PVR[df_PVR['PythonVsR']=='Python'])\n",
    "\n",
    "mask_P=(df_PVR['LanguageRecommendationSelect'] == 'Python')& (df_PVR['PythonVsR']=='R')\n",
    "print('Proportion of R users who recommend Python as the first language to learn: {:0.2f}%'\\\n",
    "      .format(100*len(df_PVR[mask_P])/len(df_PVR[df_PVR['PythonVsR']=='R'])))\n",
    "m_p=100*len(df_PVR[mask_P])/len(df_PVR[df_PVR['PythonVsR']=='R'])\n"
   ]
  },
  {
   "cell_type": "markdown",
   "metadata": {},
   "source": [
    "Now,Lets plot the graph of Language Recommendation to new DS by Python and R Users"
   ]
  },
  {
   "cell_type": "code",
   "execution_count": 16,
   "metadata": {},
   "outputs": [],
   "source": [
    "d={'Language':['Python users who recommend R','R users who recommend Python'],'Recommendation(%)':[m_R,m_p]}\n",
    "df_graph_pr = pd.DataFrame(data=d)"
   ]
  },
  {
   "cell_type": "code",
   "execution_count": 17,
   "metadata": {},
   "outputs": [
    {
     "data": {
      "text/html": [
       "<div>\n",
       "<style scoped>\n",
       "    .dataframe tbody tr th:only-of-type {\n",
       "        vertical-align: middle;\n",
       "    }\n",
       "\n",
       "    .dataframe tbody tr th {\n",
       "        vertical-align: top;\n",
       "    }\n",
       "\n",
       "    .dataframe thead th {\n",
       "        text-align: right;\n",
       "    }\n",
       "</style>\n",
       "<table border=\"1\" class=\"dataframe\">\n",
       "  <thead>\n",
       "    <tr style=\"text-align: right;\">\n",
       "      <th></th>\n",
       "      <th>Language</th>\n",
       "      <th>Recommendation(%)</th>\n",
       "    </tr>\n",
       "  </thead>\n",
       "  <tbody>\n",
       "    <tr>\n",
       "      <th>0</th>\n",
       "      <td>Python users who recommend R</td>\n",
       "      <td>2.675974</td>\n",
       "    </tr>\n",
       "    <tr>\n",
       "      <th>1</th>\n",
       "      <td>R users who recommend Python</td>\n",
       "      <td>23.122636</td>\n",
       "    </tr>\n",
       "  </tbody>\n",
       "</table>\n",
       "</div>"
      ],
      "text/plain": [
       "                       Language  Recommendation(%)\n",
       "0  Python users who recommend R           2.675974\n",
       "1  R users who recommend Python          23.122636"
      ]
     },
     "execution_count": 17,
     "metadata": {},
     "output_type": "execute_result"
    }
   ],
   "source": [
    "df_graph_pr"
   ]
  },
  {
   "cell_type": "code",
   "execution_count": 18,
   "metadata": {},
   "outputs": [
    {
     "data": {
      "text/plain": [
       "<seaborn.axisgrid.FacetGrid at 0x27a6caa4eb8>"
      ]
     },
     "execution_count": 18,
     "metadata": {},
     "output_type": "execute_result"
    },
    {
     "data": {
      "image/png": "[encoded data removed]",
      "text/plain": [
       "<Figure size 576x288 with 1 Axes>"
      ]
     },
     "metadata": {},
     "output_type": "display_data"
    }
   ],
   "source": [
    "sns.factorplot(y='Recommendation(%)',x= 'Language',data=df_graph_pr, kind='bar',aspect=2)"
   ]
  },
  {
   "cell_type": "markdown",
   "metadata": {},
   "source": [
    "### Key Insight 1 - We found that R users recommends Python language to new DS rather than R. R users recommending Python is a proof of how versatile and acknowledged Python has become. We recommend learning Python to the new data scientist. "
   ]
  },
  {
   "cell_type": "markdown",
   "metadata": {},
   "source": [
    "# 4.2 Analysis 2 - Where are Data Scientists valued the most?"
   ]
  },
  {
   "cell_type": "markdown",
   "metadata": {},
   "source": [
    "#### We want to know that which country value the Data Scientist the most in terms of Salary"
   ]
  },
  {
   "cell_type": "code",
   "execution_count": 19,
   "metadata": {},
   "outputs": [],
   "source": [
    "df_ds=data[['GenderSelect','Country','EmploymentStatus','CurrentJobTitleSelect','CompensationAmount','CompensationCurrency']]"
   ]
  },
  {
   "cell_type": "markdown",
   "metadata": {},
   "source": [
    "#### We are only keeping fulltime, part time and freelancer respondents as we are focusing on salary distribution"
   ]
  },
  {
   "cell_type": "code",
   "execution_count": 20,
   "metadata": {},
   "outputs": [],
   "source": [
    " df_ds=df_ds[(df_ds.EmploymentStatus== 'Employed full-time') | \\\n",
    "        (df_ds.EmploymentStatus == 'Independent contractor, freelancer, or self-employed') | \\\n",
    "        (df_ds.EmploymentStatus == 'Employed part-time')]\n"
   ]
  },
  {
   "cell_type": "markdown",
   "metadata": {},
   "source": [
    "#### Considering only Data scientists"
   ]
  },
  {
   "cell_type": "code",
   "execution_count": 21,
   "metadata": {},
   "outputs": [],
   "source": [
    "df_ds=df_ds[df_ds.CurrentJobTitleSelect == 'Data Scientist']"
   ]
  },
  {
   "cell_type": "code",
   "execution_count": 22,
   "metadata": {},
   "outputs": [],
   "source": [
    "df_ds.drop('CurrentJobTitleSelect',axis=1, inplace=True)"
   ]
  },
  {
   "cell_type": "markdown",
   "metadata": {},
   "source": [
    "#### Cleaning CompensationAmount Column"
   ]
  },
  {
   "cell_type": "code",
   "execution_count": 23,
   "metadata": {},
   "outputs": [],
   "source": [
    "df_ds['CompensationAmount'] = df_ds['CompensationAmount'].fillna(0)\n",
    "df_ds['CompensationAmount'] = df_ds.CompensationAmount.apply(lambda x: 0 if (pd.isnull(x) or (x=='-') or (x==0))\n",
    "                                                       else float(x.replace(',','')))"
   ]
  },
  {
   "cell_type": "markdown",
   "metadata": {},
   "source": [
    "\n",
    "Problem with taking Salary from different country is that the figures are exclusive of the GDP rate of a country.\n",
    "Consider 1 USD i.e. equivalent to 64.92 Indian Rupee. You can do with 1USD in India more than what you would do with 1USD in the US.\n",
    "\n",
    "As every country has different cost of living, we are using Purchasing Power Parity(PPP) concept to convert currencies without using market exchange rates. The purchasing power of a currency refers to the quantity of the currency needed to purchase a given unit of a good, or common basket of goods and services.\n",
    "\n",
    "***In our analysis we have included PPP while calculating the salary.***"
   ]
  },
  {
   "cell_type": "markdown",
   "metadata": {},
   "source": [
    "**We have taken the purchasing power parity rate from here **:http://www.imf.org/external/datamapper/PPPEX@WEO/OEMDC/ADVEC/WEOWORLD/IND"
   ]
  },
  {
   "cell_type": "code",
   "execution_count": 24,
   "metadata": {},
   "outputs": [],
   "source": [
    "ppp={'Countries':['United States','India','United Kingdom','Germany','France','Brazil','Canada','Spain','Australia','Russia','Italy',\"People 's Republic of China\",'Netherlands'],\n",
    "           'Currency':['USD','INR','GBP','EUR','EUR','BRL','CAD','EUR','AUD','RUB','EUR','CNY','EUR'],\n",
    "           'PPP':[1.00,17.7,0.7,0.78,0.81,2.05,1.21,0.66,1.46,25.13,0.74,3.51,0.8]}\n",
    "\n",
    "ppp = pd.DataFrame(data=ppp)"
   ]
  },
  {
   "cell_type": "markdown",
   "metadata": {},
   "source": [
    "Now, we have ppp table and we will merge it with our conversion rates columns to map the ppp rates with corresponding country"
   ]
  },
  {
   "cell_type": "code",
   "execution_count": 25,
   "metadata": {},
   "outputs": [],
   "source": [
    "rates=ppp.merge(cvRates,left_on='Currency',right_on='originCountry',how='left')\n",
    "rates['PPP/ER']=rates['PPP']*rates['exchangeRate']"
   ]
  },
  {
   "cell_type": "code",
   "execution_count": 26,
   "metadata": {},
   "outputs": [],
   "source": [
    "rates=rates[['Countries','PPP','PPP/ER']]"
   ]
  },
  {
   "cell_type": "markdown",
   "metadata": {},
   "source": [
    "Here, we are mapping the conversion rates with our original data frame"
   ]
  },
  {
   "cell_type": "code",
   "execution_count": 27,
   "metadata": {},
   "outputs": [],
   "source": [
    "df_new=df_ds.merge(cvRates,left_on='CompensationCurrency',right_on='originCountry',how='left')"
   ]
  },
  {
   "cell_type": "markdown",
   "metadata": {},
   "source": [
    "Now, the conversion rates is mapped with the rates df where we have the ppp rates per country"
   ]
  },
  {
   "cell_type": "code",
   "execution_count": 28,
   "metadata": {},
   "outputs": [],
   "source": [
    "df1=df_new.merge(rates,left_on='Country',right_on='Countries',how='left')"
   ]
  },
  {
   "cell_type": "markdown",
   "metadata": {},
   "source": [
    "We have all the required columns now after merging different tables and below is the salary calculation considering exchange rate and purchaisng power parity concept"
   ]
  },
  {
   "cell_type": "code",
   "execution_count": 29,
   "metadata": {},
   "outputs": [],
   "source": [
    "df1['AdjustedSalary']=df1['CompensationAmount']*df1['exchangeRate']/df1['PPP/ER']"
   ]
  },
  {
   "cell_type": "code",
   "execution_count": 30,
   "metadata": {},
   "outputs": [],
   "source": [
    "salary = {}\n",
    "for country in df1['Country'].value_counts().index :\n",
    "    salary[country]=df1[df1['Country']==country]['AdjustedSalary'].median()\n",
    "    \n",
    "median_wages = pd.DataFrame.from_dict(data=salary, orient='index').round(2)\n",
    "median_wages.sort_values(by=list(median_wages),axis=0, ascending=True, inplace=True)"
   ]
  },
  {
   "cell_type": "code",
   "execution_count": 31,
   "metadata": {},
   "outputs": [],
   "source": [
    "median_wages.dropna(inplace=True)"
   ]
  },
  {
   "cell_type": "markdown",
   "metadata": {},
   "source": [
    "**Inflation rate has been taken from https://tradingeconomics.com/country-list/inflation-rate**"
   ]
  },
  {
   "cell_type": "code",
   "execution_count": 32,
   "metadata": {},
   "outputs": [],
   "source": [
    "inflations={'Countries':['United States','India','United Kingdom','Germany','France','Brazil','Canada','Spain','Australia','Russia','Italy',\"People 's Republic of China\",'Netherlands'],\n",
    "           'infrate_2013':[106.83,131.98,110.15,105.68,105.01,119.37,105.45,107.21,107.70,121.64,107.20,111.16,107.48],\n",
    "           'infrate_2017':[113.10,162.01,116.51,109.6,107.1,156.73,112.39,109.13,113.48,168.50,108.61,119.75,111.55],\n",
    "           'medrate':[15480,615,12399,14098,12445,2247,15181,7284,15026,4129,6874,1786,14450]}\n",
    "\n",
    "inflations_rates = pd.DataFrame(inflations)\n",
    "inflations_rates['adjusted_medians']=(inflations_rates['medrate']*inflations_rates['infrate_2017']/inflations_rates['infrate_2013']).round(2)\n",
    "#inflations_rates"
   ]
  },
  {
   "cell_type": "code",
   "execution_count": 33,
   "metadata": {},
   "outputs": [],
   "source": [
    "tmp=median_wages.reset_index()\n",
    "tmp = tmp.rename(columns={'index': 'Country', 0: 'median_income'})\n",
    "\n",
    "inflations_rates=inflations_rates.merge(tmp,left_on='Countries',right_on='Country',how='left')\n",
    "inflations_rates['ratio_incomes']=(inflations_rates['median_income']/inflations_rates['adjusted_medians']).round(2)\n",
    "\n",
    "tmp2=inflations_rates[['Country','ratio_incomes']]\n",
    "tmp2.sort_values(by='ratio_incomes',axis=0, ascending=True, inplace=True)"
   ]
  },
  {
   "cell_type": "markdown",
   "metadata": {},
   "source": [
    "##  Salary Distribution Before GDP Calculation"
   ]
  },
  {
   "cell_type": "code",
   "execution_count": 34,
   "metadata": {},
   "outputs": [
    {
     "data": {
      "application/vnd.plotly.v1+json": {
       "data": [
        {
         "autocolorscale": false,
         "colorbar": {
          "autotick": false,
          "title": "Salary in USD"
         },
         "colorscale": [
          [
           0,
           "rgb(5, 10, 172)"
          ],
          [
           0.35,
           "rgb(40, 60, 190)"
          ],
          [
           0.5,
           "rgb(70, 100, 245)"
          ],
          [
           0.6,
           "rgb(90, 120, 245)"
          ],
          [
           0.7,
           "rgb(106, 137, 247)"
          ],
          [
           1,
           "rgb(220, 220, 220)"
          ]
         ],
         "locationmode": "country names",
         "locations": [
          "Russia",
          "India",
          "France",
          "Brazil",
          "Spain",
          "Italy",
          "People 's Republic of China",
          "United Kingdom",
          "Netherlands",
          "Germany",
          "Canada",
          "Australia",
          "United States"
         ],
         "marker": {
          "line": {
           "color": "rgb(180,180,180)",
           "width": 0.5
          }
         },
         "reversescale": true,
         "text": [
          "Russia",
          "India",
          "France",
          "Brazil",
          "Spain",
          "Italy",
          "People 's Republic of China",
          "United Kingdom",
          "Netherlands",
          "Germany",
          "Canada",
          "Australia",
          "United States"
         ],
         "type": "choropleth",
         "z": [
          24830.88,
          56497.18,
          58024.69,
          58536.59,
          60606.06,
          66216.22,
          68376.07,
          71428.57,
          76250,
          76923.08,
          77479.34,
          95547.95,
          120000
         ]
        }
       ],
       "layout": {
        "geo": {
         "projection": {
          "type": "Mercator"
         },
         "showcoastlines": true,
         "showframe": false
        },
        "title": "Salary Distribution by countries (USD)"
       }
      },
      "text/html": [
       "<div id=\"d8941fc2-fa19-4ff1-954b-7724ba8b1b30\" style=\"height: 525px; width: 100%;\" class=\"plotly-graph-div\"></div><script type=\"text/javascript\">require([\"plotly\"], function(Plotly) { window.PLOTLYENV=window.PLOTLYENV || {};window.PLOTLYENV.BASE_URL=\"https://plot.ly\";Plotly.newPlot(\"d8941fc2-fa19-4ff1-954b-7724ba8b1b30\", [{\"type\": \"choropleth\", \"locations\": [\"Russia\", \"India\", \"France\", \"Brazil\", \"Spain\", \"Italy\", \"People 's Republic of China\", \"United Kingdom\", \"Netherlands\", \"Germany\", \"Canada\", \"Australia\", \"United States\"], \"locationmode\": \"country names\", \"z\": [24830.88, 56497.18, 58024.69, 58536.59, 60606.06, 66216.22, 68376.07, 71428.57, 76250.0, 76923.08, 77479.34, 95547.95, 120000.0], \"text\": [\"Russia\", \"India\", \"France\", \"Brazil\", \"Spain\", \"Italy\", \"People 's Republic of China\", \"United Kingdom\", \"Netherlands\", \"Germany\", \"Canada\", \"Australia\", \"United States\"], \"colorscale\": [[0, \"rgb(5, 10, 172)\"], [0.35, \"rgb(40, 60, 190)\"], [0.5, \"rgb(70, 100, 245)\"], [0.6, \"rgb(90, 120, 245)\"], [0.7, \"rgb(106, 137, 247)\"], [1, \"rgb(220, 220, 220)\"]], \"autocolorscale\": false, \"reversescale\": true, \"marker\": {\"line\": {\"color\": \"rgb(180,180,180)\", \"width\": 0.5}}, \"colorbar\": {\"autotick\": false, \"title\": \"Salary in USD\"}}], {\"title\": \"Salary Distribution by countries (USD)\", \"geo\": {\"showframe\": false, \"showcoastlines\": true, \"projection\": {\"type\": \"Mercator\"}}}, {\"showLink\": true, \"linkText\": \"Export to plot.ly\"})});</script>"
      ],
      "text/vnd.plotly.v1+html": [
       "<div id=\"d8941fc2-fa19-4ff1-954b-7724ba8b1b30\" style=\"height: 525px; width: 100%;\" class=\"plotly-graph-div\"></div><script type=\"text/javascript\">require([\"plotly\"], function(Plotly) { window.PLOTLYENV=window.PLOTLYENV || {};window.PLOTLYENV.BASE_URL=\"https://plot.ly\";Plotly.newPlot(\"d8941fc2-fa19-4ff1-954b-7724ba8b1b30\", [{\"type\": \"choropleth\", \"locations\": [\"Russia\", \"India\", \"France\", \"Brazil\", \"Spain\", \"Italy\", \"People 's Republic of China\", \"United Kingdom\", \"Netherlands\", \"Germany\", \"Canada\", \"Australia\", \"United States\"], \"locationmode\": \"country names\", \"z\": [24830.88, 56497.18, 58024.69, 58536.59, 60606.06, 66216.22, 68376.07, 71428.57, 76250.0, 76923.08, 77479.34, 95547.95, 120000.0], \"text\": [\"Russia\", \"India\", \"France\", \"Brazil\", \"Spain\", \"Italy\", \"People 's Republic of China\", \"United Kingdom\", \"Netherlands\", \"Germany\", \"Canada\", \"Australia\", \"United States\"], \"colorscale\": [[0, \"rgb(5, 10, 172)\"], [0.35, \"rgb(40, 60, 190)\"], [0.5, \"rgb(70, 100, 245)\"], [0.6, \"rgb(90, 120, 245)\"], [0.7, \"rgb(106, 137, 247)\"], [1, \"rgb(220, 220, 220)\"]], \"autocolorscale\": false, \"reversescale\": true, \"marker\": {\"line\": {\"color\": \"rgb(180,180,180)\", \"width\": 0.5}}, \"colorbar\": {\"autotick\": false, \"title\": \"Salary in USD\"}}], {\"title\": \"Salary Distribution by countries (USD)\", \"geo\": {\"showframe\": false, \"showcoastlines\": true, \"projection\": {\"type\": \"Mercator\"}}}, {\"showLink\": true, \"linkText\": \"Export to plot.ly\"})});</script>"
      ]
     },
     "metadata": {},
     "output_type": "display_data"
    }
   ],
   "source": [
    "median_wages.dropna(inplace=True)\n",
    "data = [ dict(\n",
    "        type = 'choropleth',\n",
    "       locations =tmp['Country'],\n",
    "        locationmode = 'country names',\n",
    "        z = tmp['median_income'],\n",
    "        text = tmp['Country'],\n",
    "        colorscale = [[0,\"rgb(5, 10, 172)\"],[0.35,\"rgb(40, 60, 190)\"],[0.5,\"rgb(70, 100, 245)\"],\n",
    "            [0.6,\"rgb(90, 120, 245)\"],[0.7,\"rgb(106, 137, 247)\"],[1,\"rgb(220, 220, 220)\"]],\n",
    "        autocolorscale = False,\n",
    "        reversescale = True,\n",
    "        marker = dict(\n",
    "            line = dict (\n",
    "                color = 'rgb(180,180,180)',\n",
    "                width = 0.5\n",
    "            ) ),\n",
    "        colorbar = dict(\n",
    "            autotick = False,\n",
    "            title = 'Salary in USD'),\n",
    "      ) ]\n",
    "\n",
    "layout = dict(\n",
    "    title = 'Salary Distribution by countries (USD)',\n",
    "    geo = dict(\n",
    "        showframe = False,\n",
    "        showcoastlines = True,\n",
    "        projection = dict(\n",
    "            type = 'Mercator'\n",
    "        )\n",
    "    )\n",
    ")\n",
    "\n",
    "fig = dict( data=data, layout=layout )\n",
    "py.iplot( fig, validate=False, filename='world-map')"
   ]
  },
  {
   "cell_type": "markdown",
   "metadata": {},
   "source": [
    "## Salary Distribution After GDP Calculation"
   ]
  },
  {
   "cell_type": "code",
   "execution_count": 63,
   "metadata": {},
   "outputs": [
    {
     "data": {
      "application/vnd.plotly.v1+json": {
       "data": [
        {
         "autocolorscale": false,
         "colorbar": {
          "autotick": false,
          "title": "Income Ratio"
         },
         "colorscale": [
          [
           0,
           "rgb(5, 10, 172)"
          ],
          [
           0.35,
           "rgb(40, 60, 190)"
          ],
          [
           0.5,
           "rgb(70, 100, 245)"
          ],
          [
           0.6,
           "rgb(90, 120, 245)"
          ],
          [
           0.7,
           "rgb(106, 137, 247)"
          ],
          [
           1,
           "rgb(220, 220, 220)"
          ]
         ],
         "locationmode": "country names",
         "locations": [
          "Russia",
          "France",
          "Canada",
          "Netherlands",
          "Germany",
          "United Kingdom",
          "Australia",
          "United States",
          "Spain",
          "Italy",
          "Brazil",
          "People 's Republic of China",
          "India"
         ],
         "marker": {
          "line": {
           "color": "rgb(180,180,180)",
           "width": 0.5
          }
         },
         "reversescale": true,
         "text": [
          "Russia",
          "France",
          "Canada",
          "Netherlands",
          "Germany",
          "United Kingdom",
          "Australia",
          "United States",
          "Spain",
          "Italy",
          "Brazil",
          "People 's Republic of China",
          "India"
         ],
         "type": "choropleth",
         "z": [
          4.34,
          4.57,
          4.79,
          5.08,
          5.26,
          5.45,
          6.03,
          7.32,
          8.17,
          9.51,
          19.84,
          35.54,
          74.84
         ]
        }
       ],
       "layout": {
        "geo": {
         "projection": {
          "type": "Mercator"
         },
         "showcoastlines": true,
         "showframe": false
        },
        "title": "Salary Distribution by countries( per ratio incomes)"
       }
      },
      "text/html": [
       "<div id=\"9f50ba6f-4247-4cde-add4-d789dab39dcb\" style=\"height: 525px; width: 100%;\" class=\"plotly-graph-div\"></div><script type=\"text/javascript\">require([\"plotly\"], function(Plotly) { window.PLOTLYENV=window.PLOTLYENV || {};window.PLOTLYENV.BASE_URL=\"https://plot.ly\";Plotly.newPlot(\"9f50ba6f-4247-4cde-add4-d789dab39dcb\", [{\"type\": \"choropleth\", \"locations\": [\"Russia\", \"France\", \"Canada\", \"Netherlands\", \"Germany\", \"United Kingdom\", \"Australia\", \"United States\", \"Spain\", \"Italy\", \"Brazil\", \"People 's Republic of China\", \"India\"], \"locationmode\": \"country names\", \"z\": [4.34, 4.57, 4.79, 5.08, 5.26, 5.45, 6.03, 7.32, 8.17, 9.51, 19.84, 35.54, 74.84], \"text\": [\"Russia\", \"France\", \"Canada\", \"Netherlands\", \"Germany\", \"United Kingdom\", \"Australia\", \"United States\", \"Spain\", \"Italy\", \"Brazil\", \"People 's Republic of China\", \"India\"], \"colorscale\": [[0, \"rgb(5, 10, 172)\"], [0.35, \"rgb(40, 60, 190)\"], [0.5, \"rgb(70, 100, 245)\"], [0.6, \"rgb(90, 120, 245)\"], [0.7, \"rgb(106, 137, 247)\"], [1, \"rgb(220, 220, 220)\"]], \"autocolorscale\": false, \"reversescale\": true, \"marker\": {\"line\": {\"color\": \"rgb(180,180,180)\", \"width\": 0.5}}, \"colorbar\": {\"autotick\": false, \"title\": \"Income Ratio\"}}], {\"title\": \"Salary Distribution by countries( per ratio incomes)\", \"geo\": {\"showframe\": false, \"showcoastlines\": true, \"projection\": {\"type\": \"Mercator\"}}}, {\"showLink\": true, \"linkText\": \"Export to plot.ly\"})});</script>"
      ],
      "text/vnd.plotly.v1+html": [
       "<div id=\"9f50ba6f-4247-4cde-add4-d789dab39dcb\" style=\"height: 525px; width: 100%;\" class=\"plotly-graph-div\"></div><script type=\"text/javascript\">require([\"plotly\"], function(Plotly) { window.PLOTLYENV=window.PLOTLYENV || {};window.PLOTLYENV.BASE_URL=\"https://plot.ly\";Plotly.newPlot(\"9f50ba6f-4247-4cde-add4-d789dab39dcb\", [{\"type\": \"choropleth\", \"locations\": [\"Russia\", \"France\", \"Canada\", \"Netherlands\", \"Germany\", \"United Kingdom\", \"Australia\", \"United States\", \"Spain\", \"Italy\", \"Brazil\", \"People 's Republic of China\", \"India\"], \"locationmode\": \"country names\", \"z\": [4.34, 4.57, 4.79, 5.08, 5.26, 5.45, 6.03, 7.32, 8.17, 9.51, 19.84, 35.54, 74.84], \"text\": [\"Russia\", \"France\", \"Canada\", \"Netherlands\", \"Germany\", \"United Kingdom\", \"Australia\", \"United States\", \"Spain\", \"Italy\", \"Brazil\", \"People 's Republic of China\", \"India\"], \"colorscale\": [[0, \"rgb(5, 10, 172)\"], [0.35, \"rgb(40, 60, 190)\"], [0.5, \"rgb(70, 100, 245)\"], [0.6, \"rgb(90, 120, 245)\"], [0.7, \"rgb(106, 137, 247)\"], [1, \"rgb(220, 220, 220)\"]], \"autocolorscale\": false, \"reversescale\": true, \"marker\": {\"line\": {\"color\": \"rgb(180,180,180)\", \"width\": 0.5}}, \"colorbar\": {\"autotick\": false, \"title\": \"Income Ratio\"}}], {\"title\": \"Salary Distribution by countries( per ratio incomes)\", \"geo\": {\"showframe\": false, \"showcoastlines\": true, \"projection\": {\"type\": \"Mercator\"}}}, {\"showLink\": true, \"linkText\": \"Export to plot.ly\"})});</script>"
      ]
     },
     "metadata": {},
     "output_type": "display_data"
    }
   ],
   "source": [
    "data = [ dict(\n",
    "        type = 'choropleth',\n",
    "       locations = tmp2['Country'],\n",
    "        locationmode = 'country names',\n",
    "        z = tmp2['ratio_incomes'],\n",
    "        text = tmp2['Country'],\n",
    "        colorscale = [[0,\"rgb(5, 10, 172)\"],[0.35,\"rgb(40, 60, 190)\"],[0.5,\"rgb(70, 100, 245)\"],\n",
    "            [0.6,\"rgb(90, 120, 245)\"],[0.7,\"rgb(106, 137, 247)\"],[1,\"rgb(220, 220, 220)\"]],\n",
    "        autocolorscale = False,\n",
    "        reversescale = True,\n",
    "        marker = dict(\n",
    "            line = dict (\n",
    "                color = 'rgb(180,180,180)',\n",
    "                width = 0.5\n",
    "            ) ),\n",
    "        colorbar = dict(\n",
    "            autotick = False,\n",
    "            title = 'Income Ratio'),\n",
    "      ) ]\n",
    "\n",
    "layout = dict(\n",
    "    title = 'Salary Distribution by countries( per ratio incomes)',\n",
    "    geo = dict(\n",
    "        showframe = False,\n",
    "        showcoastlines = True,\n",
    "        projection = dict(\n",
    "            type = 'Mercator'\n",
    "        )\n",
    "    )\n",
    ")\n",
    "\n",
    "fig = dict( data=data, layout=layout )\n",
    "py.iplot( fig, validate=False, filename='world-map')"
   ]
  },
  {
   "cell_type": "markdown",
   "metadata": {},
   "source": [
    "### Key Insight 2 - We observed that salary distribution is totally different when we consider the GDP/PPP concept and this completely change the way when we analyze the countries where the data scientists are valued the most.\n",
    "\n",
    "### In the first graph, we found that United States is valuing the Data Scientists the most followed by Australia whereas in the second graph when we consider PPP concept, India is the one who is valuing the Data Scientists the most followed by China while considering ratio incomes.\n"
   ]
  },
  {
   "cell_type": "markdown",
   "metadata": {},
   "source": [
    "# 4.3 Analysis 3 - Top 10 factors that Data Scientist/ Analyst should keep in mind"
   ]
  },
  {
   "cell_type": "markdown",
   "metadata": {},
   "source": [
    "We are analyzing what one should have to get paid the most and we are predicting this for Data Scientist and Data Analyst only using Random Forest Classifier"
   ]
  },
  {
   "cell_type": "code",
   "execution_count": 36,
   "metadata": {},
   "outputs": [],
   "source": [
    "data = pd.read_csv('multipleChoiceResponses.csv', encoding=\"ISO-8859-1\")"
   ]
  },
  {
   "cell_type": "code",
   "execution_count": 37,
   "metadata": {},
   "outputs": [],
   "source": [
    "df_skills = data[['EmploymentStatus','CodeWriter','CurrentJobTitleSelect','PublicDatasetsSelect',\n",
    "'LearningPlatformUsefulnessCollege',\n",
    "'LearningPlatformUsefulnessCompany',\n",
    "'LearningPlatformUsefulnessNewsletters',\n",
    "'LearningPlatformUsefulnessCommunities',\n",
    "'LearningPlatformUsefulnessDocumentation',\n",
    "'LearningPlatformUsefulnessCourses',\n",
    "'LearningPlatformUsefulnessProjects',\n",
    "'LearningPlatformUsefulnessSO',\n",
    "'LearningPlatformUsefulnessTextbook',\n",
    "'LearningPlatformUsefulnessTradeBook',\n",
    "'LearningPlatformUsefulnessTutoring',\n",
    "'LearningPlatformUsefulnessYouTube',\n",
    "'JobSkillImportanceBigData',\n",
    "'JobSkillImportanceDegree',\n",
    "'JobSkillImportanceStats',\n",
    "'JobSkillImportanceEnterpriseTools',\n",
    "'JobSkillImportancePython',\n",
    "'JobSkillImportanceR',\n",
    "'JobSkillImportanceSQL',\n",
    "'JobSkillImportanceKaggleRanking',\n",
    "'JobSkillImportanceMOOC',\n",
    "'JobSkillImportanceVisualizations',\n",
    "'FormalEducation',\n",
    "'MajorSelect',\n",
    "'Tenure',\n",
    "'LearningCategorySelftTaught',\n",
    "'LearningCategoryOnlineCourses',\n",
    "'LearningCategoryWork',\n",
    "'LearningCategoryUniversity',\n",
    "'LearningCategoryKaggle',\n",
    "'LearningCategoryOther',\n",
    "'MLTechniquesSelect','CompensationAmount','CompensationCurrency',\n",
    "'WorkToolsFrequencyAmazonML',\n",
    "'WorkToolsFrequencyAngoss',\n",
    "'WorkToolsFrequencyC',\n",
    "'WorkToolsFrequencyCloudera',\n",
    "'WorkToolsFrequencyDataRobot',\n",
    "'WorkToolsFrequencyFlume',\n",
    "'WorkToolsFrequencyGCP',\n",
    "'WorkToolsFrequencyHadoop',\n",
    "'WorkToolsFrequencyIBMCognos',\n",
    "'WorkToolsFrequencyIBMSPSSModeler',\n",
    "'WorkToolsFrequencyIBMSPSSStatistics',\n",
    "'WorkToolsFrequencyIBMWatson',\n",
    "'WorkToolsFrequencyImpala',\n",
    "'WorkToolsFrequencyJava',\n",
    "'WorkToolsFrequencyJulia',\n",
    "'WorkToolsFrequencyKNIMECommercial',\n",
    "'WorkToolsFrequencyKNIMEFree',\n",
    "'WorkToolsFrequencyMathematica',\n",
    "'WorkToolsFrequencyMATLAB',\n",
    "'WorkToolsFrequencyAzure',\n",
    "'WorkToolsFrequencyExcel',\n",
    "'WorkToolsFrequencyMicrosoftRServer',\n",
    "'WorkToolsFrequencyMinitab',\n",
    "'WorkToolsFrequencyNoSQL',\n",
    "'WorkToolsFrequencyOracle',\n",
    "'WorkToolsFrequencyOrange',\n",
    "'WorkToolsFrequencyPerl',\n",
    "'WorkToolsFrequencyQlik',\n",
    "'WorkToolsFrequencyRapidMinerCommercial',\n",
    "'WorkToolsFrequencyRapidMinerFree',\n",
    "'WorkToolsFrequencySalfrod',\n",
    "'WorkToolsFrequencySAPBusinessObjects',\n",
    "'WorkToolsFrequencySASBase',\n",
    "'WorkToolsFrequencySASEnterprise',\n",
    "'WorkToolsFrequencySASJMP',\n",
    "'WorkToolsFrequencySpark',\n",
    "'WorkToolsFrequencyStan',\n",
    "'WorkToolsFrequencyStatistica',\n",
    "'WorkToolsFrequencyTensorFlow',\n",
    "'WorkToolsFrequencyTIBCO',\n",
    "'WorkToolsFrequencyUnix'\\\n",
    "]]"
   ]
  },
  {
   "cell_type": "code",
   "execution_count": 38,
   "metadata": {},
   "outputs": [],
   "source": [
    "df_skills['CompensationAmount'] = df_skills.CompensationAmount.apply(lambda x: 0 if (pd.isnull(x) or (x=='-') or (x==0))\n",
    "                                                       else float(x.replace(',','')))"
   ]
  },
  {
   "cell_type": "code",
   "execution_count": 39,
   "metadata": {},
   "outputs": [],
   "source": [
    "df_skills=df_skills[df_skills.CompensationAmount.notnull()]"
   ]
  },
  {
   "cell_type": "code",
   "execution_count": 40,
   "metadata": {},
   "outputs": [],
   "source": [
    "df_skills=df_skills[df_skills.CompensationCurrency.notnull()]"
   ]
  },
  {
   "cell_type": "code",
   "execution_count": 41,
   "metadata": {},
   "outputs": [],
   "source": [
    "df=df_skills.merge(cvRates,left_on='CompensationCurrency',right_on='originCountry',how='left')"
   ]
  },
  {
   "cell_type": "code",
   "execution_count": 42,
   "metadata": {},
   "outputs": [],
   "source": [
    "df['CompensationAmountUSD'] = df.CompensationAmount*df.exchangeRate"
   ]
  },
  {
   "cell_type": "code",
   "execution_count": 43,
   "metadata": {},
   "outputs": [],
   "source": [
    "df = df[df[\"CompensationAmountUSD\"].notnull()]"
   ]
  },
  {
   "cell_type": "code",
   "execution_count": 44,
   "metadata": {},
   "outputs": [],
   "source": [
    "df.drop(['originCountry','CompensationAmount','CompensationCurrency','exchangeRate'], axis=1, inplace=True)"
   ]
  },
  {
   "cell_type": "code",
   "execution_count": 45,
   "metadata": {},
   "outputs": [],
   "source": [
    "df1=df[df.CurrentJobTitleSelect == 'Data Scientist']"
   ]
  },
  {
   "cell_type": "code",
   "execution_count": 46,
   "metadata": {},
   "outputs": [],
   "source": [
    "y = df1[\"CompensationAmountUSD\"]\n",
    "X = df1.drop(\"CompensationAmountUSD\", 1)"
   ]
  },
  {
   "cell_type": "code",
   "execution_count": 47,
   "metadata": {},
   "outputs": [],
   "source": [
    "X = X.fillna(0)\n",
    "X_dummied = pd.get_dummies(X)\n",
    "y_binary = y > 50000"
   ]
  },
  {
   "cell_type": "code",
   "execution_count": 48,
   "metadata": {},
   "outputs": [
    {
     "name": "stdout",
     "output_type": "stream",
     "text": [
      "score:0.6257668711656442\n"
     ]
    }
   ],
   "source": [
    "X_train, X_test, y_train, y_test = train_test_split(X_dummied, y_binary, random_state=0)\n",
    "clf = RandomForestClassifier(n_estimators=20, random_state=0).fit(X_train, y_train)\n",
    "\n",
    "print(\"score:{}\".format(clf.score(X_test, y_test)))"
   ]
  },
  {
   "cell_type": "code",
   "execution_count": 49,
   "metadata": {},
   "outputs": [],
   "source": [
    "outds = pd.DataFrame()\n",
    "outds[\"data_scientist_feature_name\"] = X_dummied.columns.tolist()\n",
    "outds[\"feature_importance\"] = clf.feature_importances_\n",
    "outds.sort_values(\"feature_importance\",ascending=False).to_csv(\"results.csv\", index=False)"
   ]
  },
  {
   "cell_type": "code",
   "execution_count": 50,
   "metadata": {},
   "outputs": [],
   "source": [
    "top_10=outds.sort_values(\"feature_importance\",ascending=False).head(10)"
   ]
  },
  {
   "cell_type": "code",
   "execution_count": 51,
   "metadata": {},
   "outputs": [
    {
     "data": {
      "text/plain": [
       "<seaborn.axisgrid.FacetGrid at 0x27a6dc785c0>"
      ]
     },
     "execution_count": 51,
     "metadata": {},
     "output_type": "execute_result"
    },
    {
     "data": {
      "image/png": "[encoded data removed]",
      "text/plain": [
       "<Figure size 864x288 with 1 Axes>"
      ]
     },
     "metadata": {},
     "output_type": "display_data"
    }
   ],
   "source": [
    "sns.factorplot(x='feature_importance', y='data_scientist_feature_name', data=top_10, kind='bar', aspect=3)"
   ]
  },
  {
   "cell_type": "code",
   "execution_count": 52,
   "metadata": {},
   "outputs": [],
   "source": [
    "df2=df[df.CurrentJobTitleSelect == 'Data Analyst']"
   ]
  },
  {
   "cell_type": "code",
   "execution_count": 53,
   "metadata": {},
   "outputs": [],
   "source": [
    "#df = df.drop('CompensationAmount', 1)\n",
    "y1 = df2[\"CompensationAmountUSD\"]\n",
    "X1 = df2.drop(\"CompensationAmountUSD\", 1)\n"
   ]
  },
  {
   "cell_type": "code",
   "execution_count": 54,
   "metadata": {},
   "outputs": [],
   "source": [
    "X1 = X1.fillna(0)\n",
    "X_dummied1 = pd.get_dummies(X1)\n",
    "y_binary1 = y1 > 50000"
   ]
  },
  {
   "cell_type": "code",
   "execution_count": 55,
   "metadata": {},
   "outputs": [
    {
     "name": "stdout",
     "output_type": "stream",
     "text": [
      "score:0.64\n"
     ]
    }
   ],
   "source": [
    "X_train1, X_test1, y_train1, y_test1 = train_test_split(X_dummied1, y_binary1, random_state=0)\n",
    "clf = RandomForestClassifier(n_estimators=20, random_state=0).fit(X_train1, y_train1)\n",
    "\n",
    "print(\"score:{}\".format(clf.score(X_test1, y_test1)))"
   ]
  },
  {
   "cell_type": "code",
   "execution_count": 56,
   "metadata": {},
   "outputs": [],
   "source": [
    "outda = pd.DataFrame()\n",
    "outda[\"data_analyst_feature_name\"] = X_dummied1.columns.tolist()\n",
    "outda[\"feature_importance\"] = clf.feature_importances_\n",
    "outda.sort_values(\"feature_importance\",ascending=False).to_csv(\"results.csv\", index=False)"
   ]
  },
  {
   "cell_type": "code",
   "execution_count": 57,
   "metadata": {},
   "outputs": [],
   "source": [
    "top_10=outda.sort_values(\"feature_importance\",ascending=False).head(10)"
   ]
  },
  {
   "cell_type": "code",
   "execution_count": 58,
   "metadata": {},
   "outputs": [
    {
     "data": {
      "text/plain": [
       "<seaborn.axisgrid.FacetGrid at 0x27a6dc782e8>"
      ]
     },
     "execution_count": 58,
     "metadata": {},
     "output_type": "execute_result"
    },
    {
     "data": {
      "image/png": "[encoded data removed]",
      "text/plain": [
       "<Figure size 864x288 with 1 Axes>"
      ]
     },
     "metadata": {},
     "output_type": "display_data"
    }
   ],
   "source": [
    "sns.factorplot(x='feature_importance', y='data_analyst_feature_name', data=top_10, kind='bar', aspect=3)"
   ]
  },
  {
   "cell_type": "code",
   "execution_count": 59,
   "metadata": {},
   "outputs": [],
   "source": [
    "top10_da = outda.sort_values(\"feature_importance\",ascending=False).head(10)\n",
    "top10_ds = outds.sort_values(\"feature_importance\",ascending=False).head(10)"
   ]
  },
  {
   "cell_type": "code",
   "execution_count": 60,
   "metadata": {},
   "outputs": [],
   "source": [
    "top10_dao=top10_da.data_analyst_feature_name\n",
    "top10_da_fea=top10_dao.values[:10]"
   ]
  },
  {
   "cell_type": "code",
   "execution_count": 61,
   "metadata": {},
   "outputs": [],
   "source": [
    "top10_dso=top10_ds.data_scientist_feature_name\n",
    "top10_ds_fea=top10_dso.values[:10]"
   ]
  },
  {
   "cell_type": "code",
   "execution_count": 62,
   "metadata": {},
   "outputs": [
    {
     "data": {
      "text/plain": [
       "Text(-20,40,'FormalEducation_Doctoral degree,\\nTenure_6 to 10 years,\\nEmploymentStatus_Employed part-time')"
      ]
     },
     "execution_count": 62,
     "metadata": {},
     "output_type": "execute_result"
    },
    {
     "data": {
      "image/png": "[encoded data removed]",
      "text/plain": [
       "<Figure size 432x288 with 1 Axes>"
      ]
     },
     "metadata": {},
     "output_type": "display_data"
    }
   ],
   "source": [
    "from matplotlib_venn import venn2\n",
    "A =set(top10_da_fea)\n",
    "B =set(top10_ds_fea)\n",
    "# First way to call the 2 group Venn diagram:\n",
    "v=venn2([A,B],('Data Scientist', 'Data Analyst'))\n",
    "\n",
    "\n",
    "v.get_label_by_id('10').set_text('')\n",
    "v.get_label_by_id('11').set_text('\\n'.join(A&B))\n",
    "v.get_label_by_id('01').set_text('')\n",
    "#v.get_label_by_id('001').set_text('\\n'.join(C-A-B))\n",
    "v.get_label_by_id('01').set_text('')\n",
    "plt.annotate(',\\n'.join(B-A), xy=v.get_label_by_id('01').get_position() +\n",
    "             np.array([0, 0.8]), xytext=(-20,40), ha='center',\n",
    "             textcoords='offset points',\n",
    "             bbox=dict(boxstyle='round,pad=20', fc='black', alpha=1),\n",
    "             arrowprops=dict(arrowstyle='->',              \n",
    "                             connectionstyle='arc',color='gray'))\n",
    "\n",
    "\n",
    "plt.show()\n",
    "\n",
    "\n"
   ]
  },
  {
   "cell_type": "markdown",
   "metadata": {},
   "source": [
    "### Key Insight 3 - To hone skills for prosperous career in Data Science / Analysis we highly recommend making projects, taking  online courses, and participating in challenges on platforms like Kaggle. As we could see in our analysis, these are not only the most useful resources for learning about data science but positively impact your salary too.\n"
   ]
  },
  {
   "cell_type": "code",
   "execution_count": null,
   "metadata": {},
   "outputs": [],
   "source": []
  }
 ],
 "metadata": {
  "kernelspec": {
   "display_name": "Python 3",
   "language": "python",
   "name": "python3"
  },
  "language_info": {
   "codemirror_mode": {
    "name": "ipython",
    "version": 3
   },
   "file_extension": ".py",
   "mimetype": "text/x-python",
   "name": "python",
   "nbconvert_exporter": "python",
   "pygments_lexer": "ipython3",
   "version": "3.6.5"
  }
 },
 "nbformat": 4,
 "nbformat_minor": 1
}
